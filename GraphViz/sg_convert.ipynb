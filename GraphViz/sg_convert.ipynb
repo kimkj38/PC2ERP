{
 "cells": [
  {
   "cell_type": "markdown",
   "metadata": {},
   "source": [
    "# Convert 3DSSG's structure to GraphViz structure"
   ]
  },
  {
   "cell_type": "markdown",
   "metadata": {},
   "source": [
    "## Load Files"
   ]
  },
  {
   "cell_type": "code",
   "execution_count": 1,
   "metadata": {},
   "outputs": [],
   "source": [
    "import json"
   ]
  },
  {
   "cell_type": "code",
   "execution_count": 2,
   "metadata": {},
   "outputs": [],
   "source": [
    "# Paths (-> argparse로 수정)\n",
    "path_3dssg_objects = \"/Users/jjuke/Desktop/RVI/Projects/3DSSG/objects.json\"\n",
    "path_3dssg_relationships = \"/Users/jjuke/Desktop/RVI/Projects/3DSSG/relationships.json\"\n",
    "dir_to_save = \".\""
   ]
  },
  {
   "cell_type": "code",
   "execution_count": 3,
   "metadata": {},
   "outputs": [
    {
     "name": "stdout",
     "output_type": "stream",
     "text": [
      "<class 'dict'>\n",
      "40\n"
     ]
    }
   ],
   "source": [
    "with open(path_3dssg_objects, \"r\") as ro:\n",
    "    data_obj = json.load(ro)\n",
    "with open(path_3dssg_relationships, \"r\") as rr:\n",
    "    data_rel = json.load(rr)\n",
    "\n",
    "print(type(data_obj))\n",
    "obj_pretty = json.dumps(data_obj, indent=4)\n",
    "rel_pretty = json.dumps(data_rel, indent=4)\n",
    "print(len(data_obj['scans'][0]['objects']))"
   ]
  },
  {
   "cell_type": "markdown",
   "metadata": {},
   "source": [
    "## Exploring Data"
   ]
  },
  {
   "cell_type": "code",
   "execution_count": 120,
   "metadata": {},
   "outputs": [
    {
     "name": "stdout",
     "output_type": "stream",
     "text": [
      "============================================================\n",
      "For \"objects.json\"\n",
      "============================================================\n",
      "data is constructed by: dict_keys(['scans'])\n",
      "\n",
      "\"scans\" is constructed by:  dict_keys(['scan', 'objects'])\n",
      "\n",
      "\"objects\" is constructed by:  dict_keys(['ply_color', 'nyu40', 'eigen13', 'label', 'rio27', 'affordances', 'id', 'global_id', 'attributes'])\n",
      "\"label\" in \"objects\" example:  floor\n",
      "\n",
      "\"id(attribute와 relationship 관련 id)\" example:  1\n",
      "\"gloal_id(label에 따른 id)\" example:  188\n",
      "\"attributes\" example:  {'state': ['clean'], 'shape': ['flat'], 'lexical': ['inside', 'lower', 'horizontal'], 'color': ['beige']}\n",
      "\n",
      "\n",
      "\n",
      "============================================================\n",
      "For \"relationships.json\"\n",
      "============================================================\n",
      "data is constructed by:  dict_keys(['scans'])\n",
      "\n",
      "\"scans\" is constructed by:  dict_keys(['relationships', 'scan'])\n",
      "\n",
      "\"relationships\" example:  [2, 1, 15, 'standing on']\n"
     ]
    }
   ],
   "source": [
    "# show keys (with hierarchy)\n",
    "print('============================================================')\n",
    "print('For \"objects.json\"')\n",
    "print('============================================================')\n",
    "print('data is constructed by: {keys}'.format(keys=data_obj.keys()))\n",
    "print()\n",
    "print('\"scans\" is constructed by: ', data_obj['scans'][0].keys())\n",
    "print()\n",
    "print('\"objects\" is constructed by: ', data_obj['scans'][0]['objects'][0].keys())\n",
    "print('\"label\" in \"objects\" example: ', data_obj['scans'][0]['objects'][0]['label'])\n",
    "print()\n",
    "print('\"id(attribute와 relationship 관련 id - scene 내에서의 id)\" example: ', data_obj['scans'][0]['objects'][0]['id']) # instance id\n",
    "print('\"gloal_id(label에 따른 id)\" example: ', data_obj['scans'][0]['objects'][0]['global_id']) # global instance id (among classes)\n",
    "print('\"attributes\" example: ', data_obj['scans'][0]['objects'][0]['attributes'])\n",
    "print('\\n\\n')\n",
    "print('============================================================')\n",
    "print('For \"relationships.json\"')\n",
    "print('============================================================')\n",
    "print('data is constructed by: ', data_rel.keys())\n",
    "print()\n",
    "print('\"scans\" is constructed by: ', data_rel['scans'][0].keys())\n",
    "print()\n",
    "print('\"relationships\" example: ', data_rel['scans'][0]['relationships'][0]) # 0: object, 1: object, 2: relationships id, 3: semantic relationship "
   ]
  },
  {
   "cell_type": "code",
   "execution_count": 4,
   "metadata": {},
   "outputs": [
    {
     "name": "stdout",
     "output_type": "stream",
     "text": [
      "num of data_obj:  1482\n",
      "num of data_rel:  1335\n",
      "num of scans:  1335\n"
     ]
    }
   ],
   "source": [
    "print('num of data_obj: ', len(data_obj['scans']))\n",
    "print('num of data_rel: ', len(data_rel['scans']))\n",
    "\n",
    "count = 0\n",
    "for i in range(len(data_obj['scans'])):\n",
    "    for j in range(len(data_rel['scans'])):\n",
    "        if data_obj['scans'][i]['scan'] == data_rel['scans'][j]['scan']:\n",
    "            count += 1\n",
    "print('num of scans: ', count)"
   ]
  },
  {
   "cell_type": "markdown",
   "metadata": {},
   "source": [
    "## Create New Dictionaries"
   ]
  },
  {
   "cell_type": "markdown",
   "metadata": {},
   "source": [
    "* 일단은 attributes 중 state만 사용하여 visualization -> attributes 개수가 많이 줄어듦"
   ]
  },
  {
   "cell_type": "code",
   "execution_count": 5,
   "metadata": {},
   "outputs": [
    {
     "name": "stdout",
     "output_type": "stream",
     "text": [
      "num of objects:  40\n",
      "num of attributes:  36\n",
      "['1', '450', '3', '4', '5', '6', '7', '9', '11', '12', '2', '15', '16', '17', '18', '19', '20', '21', '23', '24', '26', '220', '31', '32', '33', '34', '35', '36', '37', '38', '39', '40', '28', '42', '43', '44', '46', '47', '48', '13']\n",
      "[0, 1, 2, 3, 4, 5, 6, 7, 8, 9, 10, 11, 12, 13, 14, 15, 16, 17, 18, 19, 20, 21, 22, 23, 24, 25, 26, 27, 28, 29, 30, 31, 32, 33, 34, 35, 36, 37, 38, 39]\n",
      "{'1': 0, '450': 1, '3': 2, '4': 3, '5': 4, '6': 5, '7': 6, '9': 7, '11': 8, '12': 9, '2': 10, '15': 11, '16': 12, '17': 13, '18': 14, '19': 15, '20': 16, '21': 17, '23': 18, '24': 19, '26': 20, '220': 21, '31': 22, '32': 23, '33': 24, '34': 25, '35': 26, '36': 27, '37': 28, '38': 29, '39': 30, '40': 31, '28': 32, '42': 33, '43': 34, '44': 35, '46': 36, '47': 37, '48': 38, '13': 39}\n",
      "num of relationships:  350\n"
     ]
    }
   ],
   "source": [
    "# convert to the structure for vizualization\n",
    "objects = []\n",
    "attributes = []\n",
    "relationships = []\n",
    "\n",
    "# at first, for the first scan\n",
    "scan = data_obj['scans'][0]\n",
    "obj_labels = []\n",
    "obj_ids = []\n",
    "obj_glob_ids = []\n",
    "obj_atts = []\n",
    "new_ids = []\n",
    "\n",
    "for i in range(len(scan['objects'])):\n",
    "    # for objects in scene (id)\n",
    "    # if scan['objects'][i]['id'] not in obj_ids:\n",
    "    obj_labels.append(scan['objects'][i]['label'])\n",
    "    obj_ids.append(scan['objects'][i]['id'])\n",
    "    obj_glob_ids.append(scan['objects'][i]['global_id'])\n",
    "    objects.append({\n",
    "        \"name\" : scan['objects'][i]['label']\n",
    "    })\n",
    "    \n",
    "    # for attributes\n",
    "    for attribute_list in scan['objects'][i]['attributes'].values(): # dict\n",
    "        for attribute in attribute_list:\n",
    "            attributes.append({\n",
    "                \"attribute\" : attribute,\n",
    "                \"object\" : i\n",
    "            })\n",
    "    new_ids.append(i)\n",
    "\n",
    "# converting id with dictionary (key: prev_id(str), value: new_id(int))\n",
    "id_dict = dict(zip(obj_ids, new_ids))\n",
    "\n",
    "# print('============================================================')\n",
    "# print('============================================================')\n",
    "# print('# Debug Process')\n",
    "# for i in range(20):\n",
    "#     print('object label : {label}  ///  object id : {id}  ///  object global id : {global_id}'\n",
    "#           .format(label=obj_labels[i], id=obj_ids[i], global_id=obj_glob_ids[i]))\n",
    "# print('num of objects : {num_obj}'.format(num_obj=len(obj_ids)))\n",
    "# print('============================================================')\n",
    "# print('============================================================')\n",
    "\n",
    "print('num of objects: ', len(objects))\n",
    "print('num of attributes: ', len(attributes))\n",
    "print(obj_ids)\n",
    "print(new_ids)\n",
    "print(id_dict)\n",
    "\n",
    "# for relationships\n",
    "for i in range(len(data_rel['scans'])):\n",
    "    scan_rel = data_rel['scans'][i]\n",
    "    if scan_rel['scan'] == scan['scan']:\n",
    "        for relationship in scan_rel['relationships']:\n",
    "            relationships.append({\n",
    "                \"predicate\" : relationship[3], \n",
    "                \"subject\" : id_dict[str(relationship[0])], # uncertain\n",
    "                \"object\" : id_dict[str(relationship[1])] # uncertain\n",
    "            })\n",
    "\n",
    "print('num of relationships: ', len(relationships))"
   ]
  },
  {
   "cell_type": "markdown",
   "metadata": {},
   "source": [
    "## Create New Json file"
   ]
  },
  {
   "cell_type": "code",
   "execution_count": 6,
   "metadata": {},
   "outputs": [
    {
     "name": "stdout",
     "output_type": "stream",
     "text": [
      "3th index of new data: \n",
      "3th object: {'name': 'trash can'} \n",
      "3th attribute: {'attribute': 'lower', 'object': 0} \n",
      "3th relationship: {'predicate': 'standing on', 'subject': 4, 'object': 0}\n"
     ]
    }
   ],
   "source": [
    "# at first, 1st scan only\n",
    "scan = str(0)\n",
    "new_dict = {\n",
    "    \"url\" : \"https://www.google.com/imgres?imgurl=https%3A%2F%2Fplay-lh.googleusercontent.com%2FaFWiT2lTa9CYBpyPjfgfNHd0r5puwKRGj2rHpdPTNrz2N9LXgN_MbLjePd1OTc0E8Rl1&imgrefurl=https%3A%2F%2Fplay.google.com%2Fstore%2Fapps%2Fdetails%2FGoogle%3Fid%3Dcom.google.android.googlequicksearchbox%26hl%3Dko%26gl%3DUS&tbnid=PRtenhDnrVrfOM&vet=12ahUKEwjHoNT_85P6AhVuy4sBHQwCCtgQMygAegUIARC-AQ..i&docid=GleFcIK-j0aT3M&w=512&h=512&q=google%20image&ved=2ahUKEwjHoNT_85P6AhVuy4sBHQwCCtgQMygAegUIARC-AQ\",\n",
    "    \"objects\" : objects,\n",
    "    \"attributes\" : attributes,\n",
    "    \"relationships\" : relationships\n",
    "}\n",
    "\n",
    "# exploring\n",
    "ind = 3\n",
    "print('{index}th index of new data: \\n{index}th object: {object} \\n{index}th attribute: {attribute} \\n{index}th relationship: {relationship}'\n",
    "      .format(index=ind, object=new_dict[\"objects\"][ind], attribute=new_dict[\"attributes\"][ind], relationship=new_dict[\"relationships\"][ind]))\n",
    "\n",
    "path_to_save = dir_to_save + \"/3dssg_for_viz.json\"\n",
    "\n",
    "with open(path_to_save, \"w\") as f:\n",
    "    json.dump(new_dict, f, indent=4)"
   ]
  },
  {
   "cell_type": "code",
   "execution_count": 35,
   "metadata": {},
   "outputs": [
    {
     "name": "stdout",
     "output_type": "stream",
     "text": [
      "\"wall\" is \"same object type\" the \"wall\"\n",
      "\"object\" is \"same object type\" the \"object\"\n",
      "\"table lamp\" is \"same object type\" the \"table lamp\"\n",
      "\"chair\" is \"same object type\" the \"chair\"\n",
      "\"wall\" is \"same object type\" the \"wall\"\n",
      "\"table lamp\" is \"same object type\" the \"table lamp\"\n",
      "\"object\" is \"same object type\" the \"object\"\n",
      "\"wall\" is \"same object type\" the \"wall\"\n",
      "\"heater\" is \"same color\" the \"chair\"\n",
      "\"box\" is \"same object type\" the \"box\"\n",
      "\"object\" is \"same object type\" the \"object\"\n",
      "\"chair\" is \"same object type\" the \"chair\"\n",
      "\"object\" is \"same object type\" the \"object\"\n",
      "\"heater\" is \"same color\" the \"door\"\n",
      "\"trash can\" is \"same object type\" the \"trash can\"\n",
      "\"object\" is \"same object type\" the \"object\"\n",
      "\"door\" is \"same color\" the \"chair\"\n",
      "\"object\" is \"same object type\" the \"object\"\n",
      "\"object\" is \"same object type\" the \"object\"\n",
      "\"kitchen cabinet\" is \"same object type\" the \"kitchen cabinet\"\n"
     ]
    }
   ],
   "source": [
    "# Exploring the data with relationship\n",
    "def show_relationship(index):\n",
    "    print('\"{subject}\" is \"{predicate}\" the \"{object}\"'\n",
    "        .format(subject= new_dict[\"objects\"][int(new_dict[\"relationships\"][index][\"subject\"])][\"name\"],\n",
    "                object= new_dict[\"objects\"][int(new_dict[\"relationships\"][index][\"object\"])][\"name\"],\n",
    "                predicate= new_dict[\"relationships\"][index][\"predicate\"]))\n",
    "\n",
    "for i in range(20):\n",
    "    show_relationship(len(new_dict[\"relationships\"]) - 1 - i) # same object 제대로 출력하는지 보기 위해 반대로 출력"
   ]
  },
  {
   "cell_type": "code",
   "execution_count": null,
   "metadata": {},
   "outputs": [],
   "source": []
  }
 ],
 "metadata": {
  "kernelspec": {
   "display_name": "Python 3.7.13 ('scenegraph')",
   "language": "python",
   "name": "python3"
  },
  "language_info": {
   "codemirror_mode": {
    "name": "ipython",
    "version": 3
   },
   "file_extension": ".py",
   "mimetype": "text/x-python",
   "name": "python",
   "nbconvert_exporter": "python",
   "pygments_lexer": "ipython3",
   "version": "3.7.13"
  },
  "vscode": {
   "interpreter": {
    "hash": "e850dc0b70f1f5f906568697f16b89ecb653dda034bb1b80cbd9a22daec36547"
   }
  }
 },
 "nbformat": 4,
 "nbformat_minor": 4
}
