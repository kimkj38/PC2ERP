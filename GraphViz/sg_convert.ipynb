{
 "cells": [
  {
   "cell_type": "markdown",
   "metadata": {},
   "source": [
    "# Convert 3DSSG's structure to GraphViz structure"
   ]
  },
  {
   "cell_type": "markdown",
   "metadata": {},
   "source": [
    "## Load Files"
   ]
  },
  {
   "cell_type": "code",
   "execution_count": 3,
   "metadata": {},
   "outputs": [],
   "source": [
    "import json"
   ]
  },
  {
   "cell_type": "code",
   "execution_count": 119,
   "metadata": {},
   "outputs": [
    {
     "name": "stdout",
     "output_type": "stream",
     "text": [
      "<class 'dict'>\n",
      "40\n"
     ]
    }
   ],
   "source": [
    "with open(\"objects.json\", \"r\") as ro:\n",
    "    data_obj = json.load(ro)\n",
    "with open(\"relationships.json\", \"r\") as rr:\n",
    "    data_rel = json.load(rr)\n",
    "\n",
    "print(type(data_obj))\n",
    "obj_pretty = json.dumps(data_obj, indent=4)\n",
    "rel_pretty = json.dumps(data_rel, indent=4)\n",
    "print(len(data_obj['scans'][0]['objects']))"
   ]
  },
  {
   "cell_type": "markdown",
   "metadata": {},
   "source": [
    "## Exploring Data"
   ]
  },
  {
   "cell_type": "code",
   "execution_count": 120,
   "metadata": {},
   "outputs": [
    {
     "name": "stdout",
     "output_type": "stream",
     "text": [
      "============================================================\n",
      "For \"objects.json\"\n",
      "============================================================\n",
      "data is constructed by: dict_keys(['scans'])\n",
      "\n",
      "\"scans\" is constructed by:  dict_keys(['scan', 'objects'])\n",
      "\n",
      "\"objects\" is constructed by:  dict_keys(['ply_color', 'nyu40', 'eigen13', 'label', 'rio27', 'affordances', 'id', 'global_id', 'attributes'])\n",
      "\"label\" in \"objects\" example:  floor\n",
      "\n",
      "\"id(attribute와 relationship 관련 id)\" example:  1\n",
      "\"gloal_id(label에 따른 id)\" example:  188\n",
      "\"attributes\" example:  {'state': ['clean'], 'shape': ['flat'], 'lexical': ['inside', 'lower', 'horizontal'], 'color': ['beige']}\n",
      "\n",
      "\n",
      "\n",
      "============================================================\n",
      "For \"relationships.json\"\n",
      "============================================================\n",
      "data is constructed by:  dict_keys(['scans'])\n",
      "\n",
      "\"scans\" is constructed by:  dict_keys(['relationships', 'scan'])\n",
      "\n",
      "\"relationships\" example:  [2, 1, 15, 'standing on']\n"
     ]
    }
   ],
   "source": [
    "# show keys (with hierarchy)\n",
    "print('============================================================')\n",
    "print('For \"objects.json\"')\n",
    "print('============================================================')\n",
    "print('data is constructed by: {keys}'.format(keys=data_obj.keys()))\n",
    "print()\n",
    "print('\"scans\" is constructed by: ', data_obj['scans'][0].keys())\n",
    "print()\n",
    "print('\"objects\" is constructed by: ', data_obj['scans'][0]['objects'][0].keys())\n",
    "print('\"label\" in \"objects\" example: ', data_obj['scans'][0]['objects'][0]['label'])\n",
    "print()\n",
    "print('\"id(attribute와 relationship 관련 id - scene 내에서의 id)\" example: ', data_obj['scans'][0]['objects'][0]['id']) # instance id\n",
    "print('\"gloal_id(label에 따른 id)\" example: ', data_obj['scans'][0]['objects'][0]['global_id']) # global instance id (among classes)\n",
    "print('\"attributes\" example: ', data_obj['scans'][0]['objects'][0]['attributes'])\n",
    "print('\\n\\n')\n",
    "print('============================================================')\n",
    "print('For \"relationships.json\"')\n",
    "print('============================================================')\n",
    "print('data is constructed by: ', data_rel.keys())\n",
    "print()\n",
    "print('\"scans\" is constructed by: ', data_rel['scans'][0].keys())\n",
    "print()\n",
    "print('\"relationships\" example: ', data_rel['scans'][0]['relationships'][0]) # 0: object, 1: object, 2: relationships id, 3: semantic relationship "
   ]
  },
  {
   "cell_type": "code",
   "execution_count": 122,
   "metadata": {},
   "outputs": [
    {
     "name": "stdout",
     "output_type": "stream",
     "text": [
      "num of data_obj:  1482\n",
      "num of data_rel:  1335\n",
      "num of scans:  1335\n"
     ]
    }
   ],
   "source": [
    "print('num of data_obj: ', len(data_obj['scans']))\n",
    "print('num of data_rel: ', len(data_rel['scans']))\n",
    "\n",
    "count = 0\n",
    "for i in range(len(data_obj['scans'])):\n",
    "    for j in range(len(data_rel['scans'])):\n",
    "        if data_obj['scans'][i]['scan'] == data_rel['scans'][j]['scan']:\n",
    "            count += 1\n",
    "print('num of scans: ', count)"
   ]
  },
  {
   "cell_type": "markdown",
   "metadata": {},
   "source": [
    "## Create New Dictionaries"
   ]
  },
  {
   "cell_type": "markdown",
   "metadata": {},
   "source": [
    "* 일단은 attributes 중 state만 사용하여 visualization -> attributes 개수가 많이 줄어듦"
   ]
  },
  {
   "cell_type": "code",
   "execution_count": 133,
   "metadata": {},
   "outputs": [
    {
     "name": "stdout",
     "output_type": "stream",
     "text": [
      "num of objects:  26\n",
      "num of attributes:  36\n",
      "num of relationships:  350\n"
     ]
    }
   ],
   "source": [
    "# convert to the structure for vizualization\n",
    "objects = []\n",
    "attributes = []\n",
    "relationships = []\n",
    "\n",
    "# at first, for the first scan -> id 기준으로 수정하기!\n",
    "scan = data_obj['scans'][0]\n",
    "obj_vals = []\n",
    "\n",
    "for i in range(len(scan['objects'])):\n",
    "    # for objects\n",
    "    if scan['objects'][i]['label'] not in obj_vals:\n",
    "        obj_vals.append(scan['objects'][i]['label'])\n",
    "        objects.append({\n",
    "            \"name\" : scan['objects'][i]['label']\n",
    "        })\n",
    "    \n",
    "    # for attributes\n",
    "    for attribute_list in scan['objects'][i]['attributes'].values(): # dict\n",
    "        for attribute in attribute_list:\n",
    "            attributes.append({\n",
    "                \"attribute\" : attribute,\n",
    "                \"object\" : int(scan['objects'][i]['id']) - 1\n",
    "            })\n",
    "\n",
    "print('num of objects: ', len(objects))\n",
    "print('num of attributes: ', len(attributes))\n",
    "\n",
    "# for relationships\n",
    "for i in range(len(data_rel['scans'])):\n",
    "    scan_rel = data_rel['scans'][i]\n",
    "    if scan_rel['scan'] == scan['scan']:\n",
    "        for relationship in scan_rel['relationships']:\n",
    "            relationships.append({\n",
    "                \"predicate\" : relationship[3], \n",
    "                \"subject\" : int(relationship[0]) - 1, # uncertain\n",
    "                \"object\" : int(relationship[1]) - 1 # uncertain\n",
    "            })\n",
    "\n",
    "print('num of relationships: ', len(relationships))"
   ]
  },
  {
   "cell_type": "markdown",
   "metadata": {},
   "source": [
    "## Create New Json file"
   ]
  },
  {
   "cell_type": "code",
   "execution_count": 134,
   "metadata": {},
   "outputs": [],
   "source": [
    "# at first, 1st scan only\n",
    "scan = str(0)\n",
    "new_dict = {\n",
    "    \"url\" : \"https://\" + scan + \"th.jpg\",\n",
    "    \"objects\" : objects,\n",
    "    \"attributes\" : attributes,\n",
    "    \"relationships\" : relationships\n",
    "}\n",
    "\n",
    "with open(\"/Users/jjuke/Desktop/RVI/Projects/GraphViz/3dssg_for_viz.json\", \"w\") as f:\n",
    "    json.dump(new_dict, f, indent=4)"
   ]
  },
  {
   "cell_type": "code",
   "execution_count": null,
   "metadata": {},
   "outputs": [],
   "source": []
  }
 ],
 "metadata": {
  "kernelspec": {
   "display_name": "Python 3.8.9 64-bit",
   "language": "python",
   "name": "python3"
  },
  "language_info": {
   "codemirror_mode": {
    "name": "ipython",
    "version": 3
   },
   "file_extension": ".py",
   "mimetype": "text/x-python",
   "name": "python",
   "nbconvert_exporter": "python",
   "pygments_lexer": "ipython3",
   "version": "3.8.9"
  },
  "orig_nbformat": 4,
  "vscode": {
   "interpreter": {
    "hash": "31f2aee4e71d21fbe5cf8b01ff0e069b9275f58929596ceb00d14d90e3e16cd6"
   }
  }
 },
 "nbformat": 4,
 "nbformat_minor": 2
}
