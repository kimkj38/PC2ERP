{
 "cells": [
  {
   "cell_type": "markdown",
   "id": "8a93243a-b885-4f90-be94-e51f23ba8428",
   "metadata": {},
   "source": [
    "# MSI Extraction"
   ]
  },
  {
   "cell_type": "markdown",
   "id": "25773d72-4957-46a5-b151-2a47d9758f05",
   "metadata": {},
   "source": [
    "## main.py"
   ]
  },
  {
   "cell_type": "code",
   "execution_count": 6,
   "id": "281d6896-c80d-4ed9-92b5-166c04f1d98a",
   "metadata": {},
   "outputs": [],
   "source": [
    "import trimesh\n",
    "import rtree\n",
    "import shapely\n",
    "import random\n",
    "import time\n",
    "import os\n",
    "import multiprocessing\n",
    "\n",
    "import numpy as np\n",
    "import cv2\n",
    "from plyfile import PlyData, PlyElement\n",
    "from utils.generatePC import *"
   ]
  },
  {
   "cell_type": "code",
   "execution_count": null,
   "id": "79269fe7-eb8d-4995-8ea2-3bd6cfc09eb4",
   "metadata": {},
   "outputs": [],
   "source": []
  },
  {
   "cell_type": "markdown",
   "id": "f7677a30-9d4b-4dbc-bec1-70a1716015b1",
   "metadata": {},
   "source": [
    "## Camera Class\n",
    "* 이후에 main에 추가해서 encapsulation"
   ]
  },
  {
   "cell_type": "code",
   "execution_count": null,
   "id": "cdec4bfb-0e92-409a-9329-df6618ae8fd3",
   "metadata": {},
   "outputs": [],
   "source": [
    "class Camera():\n",
    "    def __init__(self, (cam_pos)):\n",
    "        #============================================================\n",
    "        # Camera position\n",
    "        #============================================================\n",
    "        self.x_pos = cam_pos[0]\n",
    "        self.y_pos = cam_pos[1]\n",
    "        self.z_pos = cam_pos[2]\n",
    "        \n",
    "        #============================================================\n",
    "        # Camera properties (to be added)\n",
    "        #============================================================\n",
    "\n",
    "    def getPos():\n",
    "        #============================================================\n",
    "        # Get the coordinates\n",
    "        #============================================================\n",
    "        return (self.x_pos, self.y_pos, self.z_pos)\n",
    "    \n",
    "    def getMSI():\n",
    "        #============================================================\n",
    "        # Extract the MSI\n",
    "        #============================================================\n",
    "        \n",
    "        return"
   ]
  }
 ],
 "metadata": {
  "kernelspec": {
   "display_name": "Python 3 (ipykernel)",
   "language": "python",
   "name": "python3"
  },
  "language_info": {
   "codemirror_mode": {
    "name": "ipython",
    "version": 3
   },
   "file_extension": ".py",
   "mimetype": "text/x-python",
   "name": "python",
   "nbconvert_exporter": "python",
   "pygments_lexer": "ipython3",
   "version": "3.7.13"
  }
 },
 "nbformat": 4,
 "nbformat_minor": 5
}
